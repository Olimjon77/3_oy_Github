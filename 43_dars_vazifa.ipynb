{
  "nbformat": 4,
  "nbformat_minor": 0,
  "metadata": {
    "colab": {
      "provenance": [],
      "authorship_tag": "ABX9TyO5Z4x9tdqvUHiMqtiT72a4",
      "include_colab_link": true
    },
    "kernelspec": {
      "name": "python3",
      "display_name": "Python 3"
    },
    "language_info": {
      "name": "python"
    }
  },
  "cells": [
    {
      "cell_type": "markdown",
      "metadata": {
        "id": "view-in-github",
        "colab_type": "text"
      },
      "source": [
        "<a href=\"https://colab.research.google.com/github/Olimjon77/3_oy_Github/blob/main/43_dars_vazifa.ipynb\" target=\"_parent\"><img src=\"https://colab.research.google.com/assets/colab-badge.svg\" alt=\"Open In Colab\"/></a>"
      ]
    },
    {
      "cell_type": "code",
      "execution_count": null,
      "metadata": {
        "colab": {
          "base_uri": "https://localhost:8080/"
        },
        "id": "ohQMCzI2m5nY",
        "outputId": "7a310304-7cad-4a36-b121-9b61074ec034"
      },
      "outputs": [
        {
          "output_type": "stream",
          "name": "stdout",
          "text": [
            "The sql extension is already loaded. To reload it, use:\n",
            "  %reload_ext sql\n"
          ]
        }
      ],
      "source": [
        "%load_ext sql\n",
        "%sql sqlite://"
      ]
    },
    {
      "cell_type": "code",
      "source": [
        "import pandas as pd"
      ],
      "metadata": {
        "id": "aO63bfIUnIKK"
      },
      "execution_count": null,
      "outputs": []
    },
    {
      "cell_type": "code",
      "source": [
        "# Read datasets from CSV files\n",
        "films = pd.read_csv('/content/films.csv', header=None)\n",
        "films = films.rename(columns={1: 'title',\n",
        "                              2: 'release_year',\n",
        "                              3: 'country',\n",
        "                              4: 'duration',\n",
        "                              5: 'language',\n",
        "                              6: 'certification',\n",
        "                              7:'gross',\n",
        "                              8:'budget'})\n",
        "reviews = pd.read_csv('/content/reviews.csv', header=None)\n",
        "reviews = reviews.rename(columns={1: 'film_id',\n",
        "                                  2: 'num_user',\n",
        "                                  3: 'num_critic',\n",
        "                                  4: 'imdb_score',\n",
        "                                  5: 'num_votes',\n",
        "                                  6: 'facebook_likes'})\n",
        "people = pd.read_csv('/content/people.csv', header=None)\n",
        "people = people.rename(columns={1: 'name',\n",
        "                                2: 'birthdate',\n",
        "                                3: 'deaddate'})\n",
        "roles = pd.read_csv('/content/roles.csv', header=None)\n",
        "roles = roles.rename(columns={1: 'film_id',\n",
        "                              2: 'person_id',\n",
        "                              3: 'role'})\n",
        "\n",
        "# Drop tables if they exist, then persist the DataFrames to the SQL database\n",
        "%sql DROP TABLE IF EXISTS films;\n",
        "%sql --persist films\n",
        "\n",
        "%sql DROP TABLE IF EXISTS reviews;\n",
        "%sql --persist reviews\n",
        "\n",
        "%sql DROP TABLE IF EXISTS people;\n",
        "%sql --persist people\n",
        "\n",
        "%sql DROP TABLE IF EXISTS roles;\n",
        "%sql --persist roles\n"
      ],
      "metadata": {
        "colab": {
          "base_uri": "https://localhost:8080/",
          "height": 244
        },
        "id": "0sQSQdoMnLcs",
        "outputId": "1d0d8108-c1e4-4f6e-9142-6a7fcfbd16e6"
      },
      "execution_count": null,
      "outputs": [
        {
          "output_type": "stream",
          "name": "stdout",
          "text": [
            " * sqlite://\n",
            "Done.\n",
            " * sqlite://\n",
            " * sqlite://\n",
            "Done.\n",
            " * sqlite://\n",
            " * sqlite://\n",
            "Done.\n",
            " * sqlite://\n",
            " * sqlite://\n",
            "Done.\n",
            " * sqlite://\n"
          ]
        },
        {
          "output_type": "execute_result",
          "data": {
            "text/plain": [
              "'Persisted roles'"
            ],
            "application/vnd.google.colaboratory.intrinsic+json": {
              "type": "string"
            }
          },
          "metadata": {},
          "execution_count": 19
        }
      ]
    },
    {
      "cell_type": "code",
      "source": [
        "%%sql\n",
        "SELECT *\n",
        "FROM films\n",
        "LIMIT 10;"
      ],
      "metadata": {
        "colab": {
          "base_uri": "https://localhost:8080/",
          "height": 284
        },
        "id": "SwKE8isPvk9i",
        "outputId": "7d4f9bbe-be40-481f-ff9b-544d6ea27d7a"
      },
      "execution_count": null,
      "outputs": [
        {
          "output_type": "stream",
          "name": "stdout",
          "text": [
            " * sqlite://\n",
            "Done.\n"
          ]
        },
        {
          "output_type": "execute_result",
          "data": {
            "text/plain": [
              "[(0, 1, \"Intolerance: Love's Struggle Throughout the Ages\", 1916.0, 'USA', 123.0, None, 'Not Rated', None, 385907.0),\n",
              " (1, 2, 'Over the Hill to the Poorhouse', 1920.0, 'USA', 110.0, None, None, 3000000.0, 100000.0),\n",
              " (2, 3, 'The Big Parade', 1925.0, 'USA', 151.0, None, 'Not Rated', None, 245000.0),\n",
              " (3, 4, 'Metropolis', 1927.0, 'Germany', 145.0, 'German', 'Not Rated', 26435.0, 6000000.0),\n",
              " (4, 5, \"Pandora's Box\", 1929.0, 'Germany', 110.0, 'German', 'Not Rated', 9950.0, None),\n",
              " (5, 6, 'The Broadway Melody', 1929.0, 'USA', 100.0, 'English', 'Passed', 2808000.0, 379000.0),\n",
              " (6, 7, \"Hell's Angels\", 1930.0, 'USA', 96.0, 'English', 'Passed', None, 3950000.0),\n",
              " (7, 8, 'A Farewell to Arms', 1932.0, 'USA', 79.0, 'English', 'Unrated', None, 800000.0),\n",
              " (8, 9, '42nd Street', 1933.0, 'USA', 89.0, 'English', 'Unrated', 2300000.0, 439000.0),\n",
              " (9, 10, 'She Done Him Wrong', 1933.0, 'USA', 66.0, 'English', 'Approved', None, 200000.0)]"
            ],
            "text/html": [
              "<table>\n",
              "    <thead>\n",
              "        <tr>\n",
              "            <th>index</th>\n",
              "            <th>0</th>\n",
              "            <th>title</th>\n",
              "            <th>release_year</th>\n",
              "            <th>country</th>\n",
              "            <th>duration</th>\n",
              "            <th>language</th>\n",
              "            <th>certification</th>\n",
              "            <th>gross</th>\n",
              "            <th>budget</th>\n",
              "        </tr>\n",
              "    </thead>\n",
              "    <tbody>\n",
              "        <tr>\n",
              "            <td>0</td>\n",
              "            <td>1</td>\n",
              "            <td>Intolerance: Love&#x27;s Struggle Throughout the Ages</td>\n",
              "            <td>1916.0</td>\n",
              "            <td>USA</td>\n",
              "            <td>123.0</td>\n",
              "            <td>None</td>\n",
              "            <td>Not Rated</td>\n",
              "            <td>None</td>\n",
              "            <td>385907.0</td>\n",
              "        </tr>\n",
              "        <tr>\n",
              "            <td>1</td>\n",
              "            <td>2</td>\n",
              "            <td>Over the Hill to the Poorhouse</td>\n",
              "            <td>1920.0</td>\n",
              "            <td>USA</td>\n",
              "            <td>110.0</td>\n",
              "            <td>None</td>\n",
              "            <td>None</td>\n",
              "            <td>3000000.0</td>\n",
              "            <td>100000.0</td>\n",
              "        </tr>\n",
              "        <tr>\n",
              "            <td>2</td>\n",
              "            <td>3</td>\n",
              "            <td>The Big Parade</td>\n",
              "            <td>1925.0</td>\n",
              "            <td>USA</td>\n",
              "            <td>151.0</td>\n",
              "            <td>None</td>\n",
              "            <td>Not Rated</td>\n",
              "            <td>None</td>\n",
              "            <td>245000.0</td>\n",
              "        </tr>\n",
              "        <tr>\n",
              "            <td>3</td>\n",
              "            <td>4</td>\n",
              "            <td>Metropolis</td>\n",
              "            <td>1927.0</td>\n",
              "            <td>Germany</td>\n",
              "            <td>145.0</td>\n",
              "            <td>German</td>\n",
              "            <td>Not Rated</td>\n",
              "            <td>26435.0</td>\n",
              "            <td>6000000.0</td>\n",
              "        </tr>\n",
              "        <tr>\n",
              "            <td>4</td>\n",
              "            <td>5</td>\n",
              "            <td>Pandora&#x27;s Box</td>\n",
              "            <td>1929.0</td>\n",
              "            <td>Germany</td>\n",
              "            <td>110.0</td>\n",
              "            <td>German</td>\n",
              "            <td>Not Rated</td>\n",
              "            <td>9950.0</td>\n",
              "            <td>None</td>\n",
              "        </tr>\n",
              "        <tr>\n",
              "            <td>5</td>\n",
              "            <td>6</td>\n",
              "            <td>The Broadway Melody</td>\n",
              "            <td>1929.0</td>\n",
              "            <td>USA</td>\n",
              "            <td>100.0</td>\n",
              "            <td>English</td>\n",
              "            <td>Passed</td>\n",
              "            <td>2808000.0</td>\n",
              "            <td>379000.0</td>\n",
              "        </tr>\n",
              "        <tr>\n",
              "            <td>6</td>\n",
              "            <td>7</td>\n",
              "            <td>Hell&#x27;s Angels</td>\n",
              "            <td>1930.0</td>\n",
              "            <td>USA</td>\n",
              "            <td>96.0</td>\n",
              "            <td>English</td>\n",
              "            <td>Passed</td>\n",
              "            <td>None</td>\n",
              "            <td>3950000.0</td>\n",
              "        </tr>\n",
              "        <tr>\n",
              "            <td>7</td>\n",
              "            <td>8</td>\n",
              "            <td>A Farewell to Arms</td>\n",
              "            <td>1932.0</td>\n",
              "            <td>USA</td>\n",
              "            <td>79.0</td>\n",
              "            <td>English</td>\n",
              "            <td>Unrated</td>\n",
              "            <td>None</td>\n",
              "            <td>800000.0</td>\n",
              "        </tr>\n",
              "        <tr>\n",
              "            <td>8</td>\n",
              "            <td>9</td>\n",
              "            <td>42nd Street</td>\n",
              "            <td>1933.0</td>\n",
              "            <td>USA</td>\n",
              "            <td>89.0</td>\n",
              "            <td>English</td>\n",
              "            <td>Unrated</td>\n",
              "            <td>2300000.0</td>\n",
              "            <td>439000.0</td>\n",
              "        </tr>\n",
              "        <tr>\n",
              "            <td>9</td>\n",
              "            <td>10</td>\n",
              "            <td>She Done Him Wrong</td>\n",
              "            <td>1933.0</td>\n",
              "            <td>USA</td>\n",
              "            <td>66.0</td>\n",
              "            <td>English</td>\n",
              "            <td>Approved</td>\n",
              "            <td>None</td>\n",
              "            <td>200000.0</td>\n",
              "        </tr>\n",
              "    </tbody>\n",
              "</table>"
            ]
          },
          "metadata": {},
          "execution_count": 20
        }
      ]
    },
    {
      "cell_type": "code",
      "source": [
        "%%sql\n",
        "SELECT DISTINCT language\n",
        "FROM films\n",
        "WHERE country = 'USA'\n",
        "      AND release_year BETWEEN 1960 AND 2010;"
      ],
      "metadata": {
        "colab": {
          "base_uri": "https://localhost:8080/",
          "height": 305
        },
        "id": "dBVQSdOD6uK6",
        "outputId": "6e60734c-3ce3-4d5a-9ec1-2f05890fe85b"
      },
      "execution_count": null,
      "outputs": [
        {
          "output_type": "stream",
          "name": "stdout",
          "text": [
            " * sqlite://\n",
            "Done.\n"
          ]
        },
        {
          "output_type": "execute_result",
          "data": {
            "text/plain": [
              "[('English',),\n",
              " (None,),\n",
              " ('Spanish',),\n",
              " ('Aramaic',),\n",
              " ('Filipino',),\n",
              " ('Cantonese',),\n",
              " ('Maya',),\n",
              " ('Vietnamese',),\n",
              " ('Japanese',),\n",
              " ('Hindi',),\n",
              " ('Dari',)]"
            ],
            "text/html": [
              "<table>\n",
              "    <thead>\n",
              "        <tr>\n",
              "            <th>language</th>\n",
              "        </tr>\n",
              "    </thead>\n",
              "    <tbody>\n",
              "        <tr>\n",
              "            <td>English</td>\n",
              "        </tr>\n",
              "        <tr>\n",
              "            <td>None</td>\n",
              "        </tr>\n",
              "        <tr>\n",
              "            <td>Spanish</td>\n",
              "        </tr>\n",
              "        <tr>\n",
              "            <td>Aramaic</td>\n",
              "        </tr>\n",
              "        <tr>\n",
              "            <td>Filipino</td>\n",
              "        </tr>\n",
              "        <tr>\n",
              "            <td>Cantonese</td>\n",
              "        </tr>\n",
              "        <tr>\n",
              "            <td>Maya</td>\n",
              "        </tr>\n",
              "        <tr>\n",
              "            <td>Vietnamese</td>\n",
              "        </tr>\n",
              "        <tr>\n",
              "            <td>Japanese</td>\n",
              "        </tr>\n",
              "        <tr>\n",
              "            <td>Hindi</td>\n",
              "        </tr>\n",
              "        <tr>\n",
              "            <td>Dari</td>\n",
              "        </tr>\n",
              "    </tbody>\n",
              "</table>"
            ]
          },
          "metadata": {},
          "execution_count": 21
        }
      ]
    },
    {
      "cell_type": "code",
      "source": [
        "%%sql\n",
        "SELECT *\n",
        "FROM films\n",
        "WHERE duration BETWEEN 60 AND 120\n",
        "   AND release_year >= 2010\n",
        "   AND (country = 'USA' OR country =  \"UK\")\n",
        "   AND language <> 'English';"
      ],
      "metadata": {
        "colab": {
          "base_uri": "https://localhost:8080/",
          "height": 221
        },
        "id": "mf-qItaU5N90",
        "outputId": "1ab077bf-8dba-489c-f8c7-02c18b25ed3b"
      },
      "execution_count": null,
      "outputs": [
        {
          "output_type": "stream",
          "name": "stdout",
          "text": [
            " * sqlite://\n",
            "Done.\n"
          ]
        },
        {
          "output_type": "execute_result",
          "data": {
            "text/plain": [
              "[(3914, 3915, 'Casa de mi Padre', 2012.0, 'USA', 84.0, 'Spanish', 'R', 5895238.0, 6000000.0),\n",
              " (4037, 4038, 'The Act of Killing', 2012.0, 'UK', 96.0, 'Indonesian', 'Not Rated', 484221.0, 1000000.0),\n",
              " (4299, 4300, 'The Knife of Don Juan', 2013.0, 'USA', 110.0, 'Spanish', None, 3830.0, 1200000.0),\n",
              " (4354, 4355, 'Addicted', 2014.0, 'USA', 106.0, 'Spanish', 'R', 17382982.0, 5000000.0),\n",
              " (4576, 4577, 'Trash', 2014.0, 'UK', 114.0, 'Portuguese', 'R', 10230.0, None),\n",
              " (4799, 4800, 'They Will Have to Kill Us First', 2015.0, 'UK', 105.0, 'French', None, None, 400000.0),\n",
              " (4860, 4861, 'Indignation', 2016.0, 'USA', 110.0, 'Hebrew', 'R', 560512.0, None)]"
            ],
            "text/html": [
              "<table>\n",
              "    <thead>\n",
              "        <tr>\n",
              "            <th>index</th>\n",
              "            <th>0</th>\n",
              "            <th>title</th>\n",
              "            <th>release_year</th>\n",
              "            <th>country</th>\n",
              "            <th>duration</th>\n",
              "            <th>language</th>\n",
              "            <th>certification</th>\n",
              "            <th>gross</th>\n",
              "            <th>budget</th>\n",
              "        </tr>\n",
              "    </thead>\n",
              "    <tbody>\n",
              "        <tr>\n",
              "            <td>3914</td>\n",
              "            <td>3915</td>\n",
              "            <td>Casa de mi Padre</td>\n",
              "            <td>2012.0</td>\n",
              "            <td>USA</td>\n",
              "            <td>84.0</td>\n",
              "            <td>Spanish</td>\n",
              "            <td>R</td>\n",
              "            <td>5895238.0</td>\n",
              "            <td>6000000.0</td>\n",
              "        </tr>\n",
              "        <tr>\n",
              "            <td>4037</td>\n",
              "            <td>4038</td>\n",
              "            <td>The Act of Killing</td>\n",
              "            <td>2012.0</td>\n",
              "            <td>UK</td>\n",
              "            <td>96.0</td>\n",
              "            <td>Indonesian</td>\n",
              "            <td>Not Rated</td>\n",
              "            <td>484221.0</td>\n",
              "            <td>1000000.0</td>\n",
              "        </tr>\n",
              "        <tr>\n",
              "            <td>4299</td>\n",
              "            <td>4300</td>\n",
              "            <td>The Knife of Don Juan</td>\n",
              "            <td>2013.0</td>\n",
              "            <td>USA</td>\n",
              "            <td>110.0</td>\n",
              "            <td>Spanish</td>\n",
              "            <td>None</td>\n",
              "            <td>3830.0</td>\n",
              "            <td>1200000.0</td>\n",
              "        </tr>\n",
              "        <tr>\n",
              "            <td>4354</td>\n",
              "            <td>4355</td>\n",
              "            <td>Addicted</td>\n",
              "            <td>2014.0</td>\n",
              "            <td>USA</td>\n",
              "            <td>106.0</td>\n",
              "            <td>Spanish</td>\n",
              "            <td>R</td>\n",
              "            <td>17382982.0</td>\n",
              "            <td>5000000.0</td>\n",
              "        </tr>\n",
              "        <tr>\n",
              "            <td>4576</td>\n",
              "            <td>4577</td>\n",
              "            <td>Trash</td>\n",
              "            <td>2014.0</td>\n",
              "            <td>UK</td>\n",
              "            <td>114.0</td>\n",
              "            <td>Portuguese</td>\n",
              "            <td>R</td>\n",
              "            <td>10230.0</td>\n",
              "            <td>None</td>\n",
              "        </tr>\n",
              "        <tr>\n",
              "            <td>4799</td>\n",
              "            <td>4800</td>\n",
              "            <td>They Will Have to Kill Us First</td>\n",
              "            <td>2015.0</td>\n",
              "            <td>UK</td>\n",
              "            <td>105.0</td>\n",
              "            <td>French</td>\n",
              "            <td>None</td>\n",
              "            <td>None</td>\n",
              "            <td>400000.0</td>\n",
              "        </tr>\n",
              "        <tr>\n",
              "            <td>4860</td>\n",
              "            <td>4861</td>\n",
              "            <td>Indignation</td>\n",
              "            <td>2016.0</td>\n",
              "            <td>USA</td>\n",
              "            <td>110.0</td>\n",
              "            <td>Hebrew</td>\n",
              "            <td>R</td>\n",
              "            <td>560512.0</td>\n",
              "            <td>None</td>\n",
              "        </tr>\n",
              "    </tbody>\n",
              "</table>"
            ]
          },
          "metadata": {},
          "execution_count": 22
        }
      ]
    },
    {
      "cell_type": "code",
      "source": [
        "%%sql\n",
        "SELECT AVG(duration) AS avg_duration,\n",
        "       MIN(duration) AS shortest_film,\n",
        "       MAX(duration) AS longest_film,\n",
        "       COUNT(*) AS total_films\n",
        "FROM films;"
      ],
      "metadata": {
        "colab": {
          "base_uri": "https://localhost:8080/",
          "height": 95
        },
        "id": "T_28PBckzKyY",
        "outputId": "a8985ebc-230b-43b7-9fd3-3aac2f19e44c"
      },
      "execution_count": null,
      "outputs": [
        {
          "output_type": "stream",
          "name": "stdout",
          "text": [
            " * sqlite://\n",
            "Done.\n"
          ]
        },
        {
          "output_type": "execute_result",
          "data": {
            "text/plain": [
              "[(107.94793138244198, 7.0, 334.0, 4968)]"
            ],
            "text/html": [
              "<table>\n",
              "    <thead>\n",
              "        <tr>\n",
              "            <th>avg_duration</th>\n",
              "            <th>shortest_film</th>\n",
              "            <th>longest_film</th>\n",
              "            <th>total_films</th>\n",
              "        </tr>\n",
              "    </thead>\n",
              "    <tbody>\n",
              "        <tr>\n",
              "            <td>107.94793138244198</td>\n",
              "            <td>7.0</td>\n",
              "            <td>334.0</td>\n",
              "            <td>4968</td>\n",
              "        </tr>\n",
              "    </tbody>\n",
              "</table>"
            ]
          },
          "metadata": {},
          "execution_count": 23
        }
      ]
    },
    {
      "cell_type": "code",
      "source": [
        "%%sql\n",
        "SELECT ROUND(AVG(duration), 2) AS avg_duration,\n",
        "       MIN(duration) AS shortest_film,\n",
        "       MAX(duration) AS longest_film,\n",
        "       COUNT(*) AS total_films\n",
        "FROM films\n",
        "WHERE country = \"UK\"\n",
        "       AND release_year BETWEEN 1999 AND  2010\n",
        "       AND title LIKE 'O%';"
      ],
      "metadata": {
        "colab": {
          "base_uri": "https://localhost:8080/",
          "height": 95
        },
        "id": "BhUB6Oqx0sNg",
        "outputId": "d892ade2-4fe2-4439-8976-b96dc9a49992"
      },
      "execution_count": null,
      "outputs": [
        {
          "output_type": "stream",
          "name": "stdout",
          "text": [
            " * sqlite://\n",
            "Done.\n"
          ]
        },
        {
          "output_type": "execute_result",
          "data": {
            "text/plain": [
              "[(111.33, 97.0, 130.0, 3)]"
            ],
            "text/html": [
              "<table>\n",
              "    <thead>\n",
              "        <tr>\n",
              "            <th>avg_duration</th>\n",
              "            <th>shortest_film</th>\n",
              "            <th>longest_film</th>\n",
              "            <th>total_films</th>\n",
              "        </tr>\n",
              "    </thead>\n",
              "    <tbody>\n",
              "        <tr>\n",
              "            <td>111.33</td>\n",
              "            <td>97.0</td>\n",
              "            <td>130.0</td>\n",
              "            <td>3</td>\n",
              "        </tr>\n",
              "    </tbody>\n",
              "</table>"
            ]
          },
          "metadata": {},
          "execution_count": 24
        }
      ]
    },
    {
      "cell_type": "code",
      "source": [
        "%%sql\n",
        "SELECT ROUND(AVG(duration), 2) AS avg_duration,\n",
        "       MIN(duration) AS shortest_film,\n",
        "       MAX(duration) AS longest_film,\n",
        "       COUNT(*) AS total_films\n",
        "FROM films\n",
        "WHERE language = \"English\"\n",
        "       AND release_year BETWEEN 1999 AND  2010\n",
        "       AND title LIKE 'O%';"
      ],
      "metadata": {
        "colab": {
          "base_uri": "https://localhost:8080/",
          "height": 95
        },
        "id": "yrFVeMi24kzs",
        "outputId": "c5bb505c-4bc4-4a43-c757-eb02ee939366"
      },
      "execution_count": null,
      "outputs": [
        {
          "output_type": "stream",
          "name": "stdout",
          "text": [
            " * sqlite://\n",
            "Done.\n"
          ]
        },
        {
          "output_type": "execute_result",
          "data": {
            "text/plain": [
              "[(100.03, 76.0, 139.0, 38)]"
            ],
            "text/html": [
              "<table>\n",
              "    <thead>\n",
              "        <tr>\n",
              "            <th>avg_duration</th>\n",
              "            <th>shortest_film</th>\n",
              "            <th>longest_film</th>\n",
              "            <th>total_films</th>\n",
              "        </tr>\n",
              "    </thead>\n",
              "    <tbody>\n",
              "        <tr>\n",
              "            <td>100.03</td>\n",
              "            <td>76.0</td>\n",
              "            <td>139.0</td>\n",
              "            <td>38</td>\n",
              "        </tr>\n",
              "    </tbody>\n",
              "</table>"
            ]
          },
          "metadata": {},
          "execution_count": 25
        }
      ]
    },
    {
      "cell_type": "code",
      "source": [
        "%%sql\n",
        "SELECT AVG(gross) AS avg_gross,\n",
        "       MIN(gross) AS lowest_gross,\n",
        "       MAX(gross) AS highest_gross,\n",
        "       COUNT(*) AS total_films\n",
        "FROM films\n",
        "WHERE country = \"India\"\n",
        "       AND release_year BETWEEN 1999 AND  2010\n",
        "       AND title LIKE 'a%';"
      ],
      "metadata": {
        "colab": {
          "base_uri": "https://localhost:8080/",
          "height": 95
        },
        "id": "IMQYvid0zXLA",
        "outputId": "0e6480fc-70e9-475e-cdbd-5e1ad1836754"
      },
      "execution_count": null,
      "outputs": [
        {
          "output_type": "stream",
          "name": "stdout",
          "text": [
            " * sqlite://\n",
            "Done.\n"
          ]
        },
        {
          "output_type": "execute_result",
          "data": {
            "text/plain": [
              "[(16892.0, 16892.0, 16892.0, 1)]"
            ],
            "text/html": [
              "<table>\n",
              "    <thead>\n",
              "        <tr>\n",
              "            <th>avg_gross</th>\n",
              "            <th>lowest_gross</th>\n",
              "            <th>highest_gross</th>\n",
              "            <th>total_films</th>\n",
              "        </tr>\n",
              "    </thead>\n",
              "    <tbody>\n",
              "        <tr>\n",
              "            <td>16892.0</td>\n",
              "            <td>16892.0</td>\n",
              "            <td>16892.0</td>\n",
              "            <td>1</td>\n",
              "        </tr>\n",
              "    </tbody>\n",
              "</table>"
            ]
          },
          "metadata": {},
          "execution_count": 26
        }
      ]
    },
    {
      "cell_type": "code",
      "source": [
        "%%sql\n",
        "SELECT AVG(gross - budget) AS avg_gross,\n",
        "       MIN(gross - budget) AS lowest_gross,\n",
        "       MAX(gross - budget) AS highest_gross,\n",
        "       COUNT(*) AS total_films\n",
        "FROM films\n",
        "WHERE country = \"India\"\n",
        "       AND budget IS NOT NULL\n",
        "       AND release_year BETWEEN 1960 AND  2020;\n"
      ],
      "metadata": {
        "colab": {
          "base_uri": "https://localhost:8080/",
          "height": 95
        },
        "id": "2D_ysHPJ3sI3",
        "outputId": "63d3548c-3908-419b-f96c-57dcd40d99e9"
      },
      "execution_count": null,
      "outputs": [
        {
          "output_type": "stream",
          "name": "stdout",
          "text": [
            " * sqlite://\n",
            "Done.\n"
          ]
        },
        {
          "output_type": "execute_result",
          "data": {
            "text/plain": [
              "[(-109711828.92857143, -696724557.0, 6876974.0, 19)]"
            ],
            "text/html": [
              "<table>\n",
              "    <thead>\n",
              "        <tr>\n",
              "            <th>avg_gross</th>\n",
              "            <th>lowest_gross</th>\n",
              "            <th>highest_gross</th>\n",
              "            <th>total_films</th>\n",
              "        </tr>\n",
              "    </thead>\n",
              "    <tbody>\n",
              "        <tr>\n",
              "            <td>-109711828.92857143</td>\n",
              "            <td>-696724557.0</td>\n",
              "            <td>6876974.0</td>\n",
              "            <td>19</td>\n",
              "        </tr>\n",
              "    </tbody>\n",
              "</table>"
            ]
          },
          "metadata": {},
          "execution_count": 27
        }
      ]
    },
    {
      "cell_type": "code",
      "source": [
        "%%sql\n",
        "SELECT AVG(gross - budget) AS avg_gross,\n",
        "       MIN(gross - budget) AS lowest_gross,\n",
        "       MAX(gross - budget) AS highest_gross,\n",
        "       COUNT(*) AS total_films\n",
        "FROM films\n",
        "WHERE country = \"India\"\n",
        "       AND release_year BETWEEN 1960 AND  2020\n",
        "       AND title LIKE 'a%';"
      ],
      "metadata": {
        "colab": {
          "base_uri": "https://localhost:8080/",
          "height": 95
        },
        "id": "ByYfagy64KxC",
        "outputId": "528b47a1-99c5-4e46-ff16-22c54d3a8864"
      },
      "execution_count": null,
      "outputs": [
        {
          "output_type": "stream",
          "name": "stdout",
          "text": [
            " * sqlite://\n",
            "Done.\n"
          ]
        },
        {
          "output_type": "execute_result",
          "data": {
            "text/plain": [
              "[(-283108.0, -283108.0, -283108.0, 3)]"
            ],
            "text/html": [
              "<table>\n",
              "    <thead>\n",
              "        <tr>\n",
              "            <th>avg_gross</th>\n",
              "            <th>lowest_gross</th>\n",
              "            <th>highest_gross</th>\n",
              "            <th>total_films</th>\n",
              "        </tr>\n",
              "    </thead>\n",
              "    <tbody>\n",
              "        <tr>\n",
              "            <td>-283108.0</td>\n",
              "            <td>-283108.0</td>\n",
              "            <td>-283108.0</td>\n",
              "            <td>3</td>\n",
              "        </tr>\n",
              "    </tbody>\n",
              "</table>"
            ]
          },
          "metadata": {},
          "execution_count": 28
        }
      ]
    },
    {
      "cell_type": "code",
      "source": [
        "%%sql\n",
        "SELECT  DISTINCT title, certification, gross, budget, language\n",
        "FROM films\n",
        "WHERE 2.5 * budget <= gross and\n",
        "  country = 'Germany' AND\n",
        "  release_year >= 2000;\n",
        "\n"
      ],
      "metadata": {
        "colab": {
          "base_uri": "https://localhost:8080/",
          "height": 221
        },
        "id": "ovfpd2bUxXU9",
        "outputId": "989f8f52-76cb-44e7-a292-133ef7e5d2fc"
      },
      "execution_count": null,
      "outputs": [
        {
          "output_type": "stream",
          "name": "stdout",
          "text": [
            " * sqlite://\n",
            "Done.\n"
          ]
        },
        {
          "output_type": "execute_result",
          "data": {
            "text/plain": [
              "[('Rugrats in Paris: The Movie', 'G', 76501438.0, 30000000.0, 'English'),\n",
              " ('Jeepers Creepers', 'R', 37470017.0, 10000000.0, 'English'),\n",
              " ('Bowling for Columbine', 'R', 21244913.0, 4000000.0, 'English'),\n",
              " ('Van Wilder: Party Liaison', 'R', 21005329.0, 6000000.0, 'English'),\n",
              " ('Crash', 'R', 54557348.0, 6500000.0, 'English'),\n",
              " ('Nacho Libre', 'PG', 80197993.0, 32000000.0, 'English'),\n",
              " ('The Lives of Others', 'R', 11284657.0, 2000000.0, 'German')]"
            ],
            "text/html": [
              "<table>\n",
              "    <thead>\n",
              "        <tr>\n",
              "            <th>title</th>\n",
              "            <th>certification</th>\n",
              "            <th>gross</th>\n",
              "            <th>budget</th>\n",
              "            <th>language</th>\n",
              "        </tr>\n",
              "    </thead>\n",
              "    <tbody>\n",
              "        <tr>\n",
              "            <td>Rugrats in Paris: The Movie</td>\n",
              "            <td>G</td>\n",
              "            <td>76501438.0</td>\n",
              "            <td>30000000.0</td>\n",
              "            <td>English</td>\n",
              "        </tr>\n",
              "        <tr>\n",
              "            <td>Jeepers Creepers</td>\n",
              "            <td>R</td>\n",
              "            <td>37470017.0</td>\n",
              "            <td>10000000.0</td>\n",
              "            <td>English</td>\n",
              "        </tr>\n",
              "        <tr>\n",
              "            <td>Bowling for Columbine</td>\n",
              "            <td>R</td>\n",
              "            <td>21244913.0</td>\n",
              "            <td>4000000.0</td>\n",
              "            <td>English</td>\n",
              "        </tr>\n",
              "        <tr>\n",
              "            <td>Van Wilder: Party Liaison</td>\n",
              "            <td>R</td>\n",
              "            <td>21005329.0</td>\n",
              "            <td>6000000.0</td>\n",
              "            <td>English</td>\n",
              "        </tr>\n",
              "        <tr>\n",
              "            <td>Crash</td>\n",
              "            <td>R</td>\n",
              "            <td>54557348.0</td>\n",
              "            <td>6500000.0</td>\n",
              "            <td>English</td>\n",
              "        </tr>\n",
              "        <tr>\n",
              "            <td>Nacho Libre</td>\n",
              "            <td>PG</td>\n",
              "            <td>80197993.0</td>\n",
              "            <td>32000000.0</td>\n",
              "            <td>English</td>\n",
              "        </tr>\n",
              "        <tr>\n",
              "            <td>The Lives of Others</td>\n",
              "            <td>R</td>\n",
              "            <td>11284657.0</td>\n",
              "            <td>2000000.0</td>\n",
              "            <td>German</td>\n",
              "        </tr>\n",
              "    </tbody>\n",
              "</table>"
            ]
          },
          "metadata": {},
          "execution_count": 29
        }
      ]
    },
    {
      "cell_type": "code",
      "source": [
        "%%sql\n",
        "SELECT *\n",
        "FROM people\n",
        "LIMIT 10;\n"
      ],
      "metadata": {
        "id": "RP-BroX5DVgV",
        "colab": {
          "base_uri": "https://localhost:8080/",
          "height": 284
        },
        "outputId": "8fe9b08d-4804-4909-e257-e0d164c6aedd"
      },
      "execution_count": null,
      "outputs": [
        {
          "output_type": "stream",
          "name": "stdout",
          "text": [
            " * sqlite://\n",
            "Done.\n"
          ]
        },
        {
          "output_type": "execute_result",
          "data": {
            "text/plain": [
              "[(0, 1, '50 Cent', '1975-07-06', None),\n",
              " (1, 2, 'A. Michael Baldwin', '1963-04-04', None),\n",
              " (2, 3, 'A. Raven Cruz', None, None),\n",
              " (3, 4, 'A.J. Buckley', '1978-02-09', None),\n",
              " (4, 5, 'A.J. DeLucia', None, None),\n",
              " (5, 6, 'A.J. Langer', '1974-05-22', None),\n",
              " (6, 7, 'Aaliyah', '1979-01-16', '2001-08-25'),\n",
              " (7, 8, 'Aaron Ashmore', '1979-10-07', None),\n",
              " (8, 9, 'Aaron Hann', None, None),\n",
              " (9, 10, 'Aaron Hill', '1983-04-23', None)]"
            ],
            "text/html": [
              "<table>\n",
              "    <thead>\n",
              "        <tr>\n",
              "            <th>index</th>\n",
              "            <th>0</th>\n",
              "            <th>name</th>\n",
              "            <th>birthdate</th>\n",
              "            <th>deaddate</th>\n",
              "        </tr>\n",
              "    </thead>\n",
              "    <tbody>\n",
              "        <tr>\n",
              "            <td>0</td>\n",
              "            <td>1</td>\n",
              "            <td>50 Cent</td>\n",
              "            <td>1975-07-06</td>\n",
              "            <td>None</td>\n",
              "        </tr>\n",
              "        <tr>\n",
              "            <td>1</td>\n",
              "            <td>2</td>\n",
              "            <td>A. Michael Baldwin</td>\n",
              "            <td>1963-04-04</td>\n",
              "            <td>None</td>\n",
              "        </tr>\n",
              "        <tr>\n",
              "            <td>2</td>\n",
              "            <td>3</td>\n",
              "            <td>A. Raven Cruz</td>\n",
              "            <td>None</td>\n",
              "            <td>None</td>\n",
              "        </tr>\n",
              "        <tr>\n",
              "            <td>3</td>\n",
              "            <td>4</td>\n",
              "            <td>A.J. Buckley</td>\n",
              "            <td>1978-02-09</td>\n",
              "            <td>None</td>\n",
              "        </tr>\n",
              "        <tr>\n",
              "            <td>4</td>\n",
              "            <td>5</td>\n",
              "            <td>A.J. DeLucia</td>\n",
              "            <td>None</td>\n",
              "            <td>None</td>\n",
              "        </tr>\n",
              "        <tr>\n",
              "            <td>5</td>\n",
              "            <td>6</td>\n",
              "            <td>A.J. Langer</td>\n",
              "            <td>1974-05-22</td>\n",
              "            <td>None</td>\n",
              "        </tr>\n",
              "        <tr>\n",
              "            <td>6</td>\n",
              "            <td>7</td>\n",
              "            <td>Aaliyah</td>\n",
              "            <td>1979-01-16</td>\n",
              "            <td>2001-08-25</td>\n",
              "        </tr>\n",
              "        <tr>\n",
              "            <td>7</td>\n",
              "            <td>8</td>\n",
              "            <td>Aaron Ashmore</td>\n",
              "            <td>1979-10-07</td>\n",
              "            <td>None</td>\n",
              "        </tr>\n",
              "        <tr>\n",
              "            <td>8</td>\n",
              "            <td>9</td>\n",
              "            <td>Aaron Hann</td>\n",
              "            <td>None</td>\n",
              "            <td>None</td>\n",
              "        </tr>\n",
              "        <tr>\n",
              "            <td>9</td>\n",
              "            <td>10</td>\n",
              "            <td>Aaron Hill</td>\n",
              "            <td>1983-04-23</td>\n",
              "            <td>None</td>\n",
              "        </tr>\n",
              "    </tbody>\n",
              "</table>"
            ]
          },
          "metadata": {},
          "execution_count": 30
        }
      ]
    },
    {
      "cell_type": "code",
      "source": [
        "%%sql\n",
        "SELECT COUNT(*)\n",
        "FROM people;"
      ],
      "metadata": {
        "colab": {
          "base_uri": "https://localhost:8080/",
          "height": 95
        },
        "id": "H3ljRuACZBSf",
        "outputId": "1c13df00-939b-432e-db43-24013480bada"
      },
      "execution_count": null,
      "outputs": [
        {
          "output_type": "stream",
          "name": "stdout",
          "text": [
            " * sqlite://\n",
            "Done.\n"
          ]
        },
        {
          "output_type": "execute_result",
          "data": {
            "text/plain": [
              "[(8397,)]"
            ],
            "text/html": [
              "<table>\n",
              "    <thead>\n",
              "        <tr>\n",
              "            <th>COUNT(*)</th>\n",
              "        </tr>\n",
              "    </thead>\n",
              "    <tbody>\n",
              "        <tr>\n",
              "            <td>8397</td>\n",
              "        </tr>\n",
              "    </tbody>\n",
              "</table>"
            ]
          },
          "metadata": {},
          "execution_count": 32
        }
      ]
    },
    {
      "cell_type": "code",
      "source": [
        "%%sql\n",
        "SELECT COUNT(*)\n",
        "FROM people\n",
        "WHERE birthdate IS NULL;"
      ],
      "metadata": {
        "colab": {
          "base_uri": "https://localhost:8080/",
          "height": 95
        },
        "id": "QGzK7SKbZN8B",
        "outputId": "1f63fe2f-907e-415e-95fb-78ebabf6e78d"
      },
      "execution_count": null,
      "outputs": [
        {
          "output_type": "stream",
          "name": "stdout",
          "text": [
            " * sqlite://\n",
            "Done.\n"
          ]
        },
        {
          "output_type": "execute_result",
          "data": {
            "text/plain": [
              "[(2245,)]"
            ],
            "text/html": [
              "<table>\n",
              "    <thead>\n",
              "        <tr>\n",
              "            <th>COUNT(*)</th>\n",
              "        </tr>\n",
              "    </thead>\n",
              "    <tbody>\n",
              "        <tr>\n",
              "            <td>2245</td>\n",
              "        </tr>\n",
              "    </tbody>\n",
              "</table>"
            ]
          },
          "metadata": {},
          "execution_count": 33
        }
      ]
    },
    {
      "cell_type": "code",
      "source": [
        "%%sql\n",
        "SELECT COUNT(*)\n",
        "FROM people\n",
        "WHERE birthdate IS NULL\n",
        "      AND deaddate IS NULL;"
      ],
      "metadata": {
        "colab": {
          "base_uri": "https://localhost:8080/",
          "height": 95
        },
        "id": "mVv9TcyLZdTu",
        "outputId": "afc04a2d-4f3a-4880-dc69-e72dad67abc1"
      },
      "execution_count": null,
      "outputs": [
        {
          "output_type": "stream",
          "name": "stdout",
          "text": [
            " * sqlite://\n",
            "Done.\n"
          ]
        },
        {
          "output_type": "execute_result",
          "data": {
            "text/plain": [
              "[(2239,)]"
            ],
            "text/html": [
              "<table>\n",
              "    <thead>\n",
              "        <tr>\n",
              "            <th>COUNT(*)</th>\n",
              "        </tr>\n",
              "    </thead>\n",
              "    <tbody>\n",
              "        <tr>\n",
              "            <td>2239</td>\n",
              "        </tr>\n",
              "    </tbody>\n",
              "</table>"
            ]
          },
          "metadata": {},
          "execution_count": 35
        }
      ]
    },
    {
      "cell_type": "code",
      "source": [
        "%%sql\n",
        "SELECT COUNT(*)\n",
        "FROM people\n",
        "WHERE birthdate IS NOT NULL\n",
        "      AND deaddate IS NOT NULL;"
      ],
      "metadata": {
        "colab": {
          "base_uri": "https://localhost:8080/",
          "height": 95
        },
        "id": "coFabEKRZm0T",
        "outputId": "7704c442-35ca-489d-95f2-da1e889be788"
      },
      "execution_count": null,
      "outputs": [
        {
          "output_type": "stream",
          "name": "stdout",
          "text": [
            " * sqlite://\n",
            "Done.\n"
          ]
        },
        {
          "output_type": "execute_result",
          "data": {
            "text/plain": [
              "[(781,)]"
            ],
            "text/html": [
              "<table>\n",
              "    <thead>\n",
              "        <tr>\n",
              "            <th>COUNT(*)</th>\n",
              "        </tr>\n",
              "    </thead>\n",
              "    <tbody>\n",
              "        <tr>\n",
              "            <td>781</td>\n",
              "        </tr>\n",
              "    </tbody>\n",
              "</table>"
            ]
          },
          "metadata": {},
          "execution_count": 36
        }
      ]
    },
    {
      "cell_type": "code",
      "source": [
        "%%sql\n",
        "SELECT COUNT(*)\n",
        "FROM people\n",
        "WHERE name LIKE '%A%';"
      ],
      "metadata": {
        "colab": {
          "base_uri": "https://localhost:8080/",
          "height": 95
        },
        "id": "CDAAF0QGZyX6",
        "outputId": "4459bb03-4bf2-416d-bca1-6e661fda8605"
      },
      "execution_count": null,
      "outputs": [
        {
          "output_type": "stream",
          "name": "stdout",
          "text": [
            " * sqlite://\n",
            "Done.\n"
          ]
        },
        {
          "output_type": "execute_result",
          "data": {
            "text/plain": [
              "[(6655,)]"
            ],
            "text/html": [
              "<table>\n",
              "    <thead>\n",
              "        <tr>\n",
              "            <th>COUNT(*)</th>\n",
              "        </tr>\n",
              "    </thead>\n",
              "    <tbody>\n",
              "        <tr>\n",
              "            <td>6655</td>\n",
              "        </tr>\n",
              "    </tbody>\n",
              "</table>"
            ]
          },
          "metadata": {},
          "execution_count": 40
        }
      ]
    },
    {
      "cell_type": "code",
      "source": [
        "%%sql\n",
        "SELECT COUNT(*)\n",
        "FROM people\n",
        "WHERE name NOT LIKE '_A%';"
      ],
      "metadata": {
        "colab": {
          "base_uri": "https://localhost:8080/",
          "height": 95
        },
        "id": "1isD89feaLee",
        "outputId": "dc7cfa06-a727-410d-8eff-383cf15c63ca"
      },
      "execution_count": null,
      "outputs": [
        {
          "output_type": "stream",
          "name": "stdout",
          "text": [
            " * sqlite://\n",
            "Done.\n"
          ]
        },
        {
          "output_type": "execute_result",
          "data": {
            "text/plain": [
              "[(6220,)]"
            ],
            "text/html": [
              "<table>\n",
              "    <thead>\n",
              "        <tr>\n",
              "            <th>COUNT(*)</th>\n",
              "        </tr>\n",
              "    </thead>\n",
              "    <tbody>\n",
              "        <tr>\n",
              "            <td>6220</td>\n",
              "        </tr>\n",
              "    </tbody>\n",
              "</table>"
            ]
          },
          "metadata": {},
          "execution_count": 43
        }
      ]
    },
    {
      "cell_type": "code",
      "source": [
        "%%sql\n",
        "SELECT COUNT(*)\n",
        "FROM people\n",
        "WHERE name NOT LIKE '%A';"
      ],
      "metadata": {
        "colab": {
          "base_uri": "https://localhost:8080/",
          "height": 95
        },
        "id": "AQdvL7UhaYFR",
        "outputId": "086803cf-05d7-4d69-90d2-34604f2a5060"
      },
      "execution_count": null,
      "outputs": [
        {
          "output_type": "stream",
          "name": "stdout",
          "text": [
            " * sqlite://\n",
            "Done.\n"
          ]
        },
        {
          "output_type": "execute_result",
          "data": {
            "text/plain": [
              "[(7957,)]"
            ],
            "text/html": [
              "<table>\n",
              "    <thead>\n",
              "        <tr>\n",
              "            <th>COUNT(*)</th>\n",
              "        </tr>\n",
              "    </thead>\n",
              "    <tbody>\n",
              "        <tr>\n",
              "            <td>7957</td>\n",
              "        </tr>\n",
              "    </tbody>\n",
              "</table>"
            ]
          },
          "metadata": {},
          "execution_count": 42
        }
      ]
    },
    {
      "cell_type": "code",
      "source": [
        "%%sql\n",
        "SELECT name\n",
        "FROM people\n",
        "WHERE name LIKE '%ALI';"
      ],
      "metadata": {
        "colab": {
          "base_uri": "https://localhost:8080/",
          "height": 137
        },
        "id": "zdwYtE0wakCP",
        "outputId": "22a14cf5-c0d9-4bba-bd3d-d9dcc45609ca"
      },
      "execution_count": null,
      "outputs": [
        {
          "output_type": "stream",
          "name": "stdout",
          "text": [
            " * sqlite://\n",
            "Done.\n"
          ]
        },
        {
          "output_type": "execute_result",
          "data": {
            "text/plain": [
              "[('Christophe Ali',), ('Tatyana Ali',), ('Vincenzo Natali',)]"
            ],
            "text/html": [
              "<table>\n",
              "    <thead>\n",
              "        <tr>\n",
              "            <th>name</th>\n",
              "        </tr>\n",
              "    </thead>\n",
              "    <tbody>\n",
              "        <tr>\n",
              "            <td>Christophe Ali</td>\n",
              "        </tr>\n",
              "        <tr>\n",
              "            <td>Tatyana Ali</td>\n",
              "        </tr>\n",
              "        <tr>\n",
              "            <td>Vincenzo Natali</td>\n",
              "        </tr>\n",
              "    </tbody>\n",
              "</table>"
            ]
          },
          "metadata": {},
          "execution_count": 48
        }
      ]
    },
    {
      "cell_type": "code",
      "source": [
        "%%sql\n",
        "SELECT MAX(name)\n",
        "FROM people\n",
        "WHERE name LIKE 'A%';"
      ],
      "metadata": {
        "colab": {
          "base_uri": "https://localhost:8080/",
          "height": 95
        },
        "id": "1XltIIEtay0h",
        "outputId": "4df33e47-7f42-428f-e138-2d25613216ea"
      },
      "execution_count": null,
      "outputs": [
        {
          "output_type": "stream",
          "name": "stdout",
          "text": [
            " * sqlite://\n",
            "Done.\n"
          ]
        },
        {
          "output_type": "execute_result",
          "data": {
            "text/plain": [
              "[('Azura Skye',)]"
            ],
            "text/html": [
              "<table>\n",
              "    <thead>\n",
              "        <tr>\n",
              "            <th>MAX(name)</th>\n",
              "        </tr>\n",
              "    </thead>\n",
              "    <tbody>\n",
              "        <tr>\n",
              "            <td>Azura Skye</td>\n",
              "        </tr>\n",
              "    </tbody>\n",
              "</table>"
            ]
          },
          "metadata": {},
          "execution_count": 51
        }
      ]
    },
    {
      "cell_type": "code",
      "source": [
        "%%sql\n",
        "SELECT name, birthdate, deaddate\n",
        "FROM people\n",
        "WHERE birthdate = (SELECT MIN(birthdate)\n",
        "              FROM people);"
      ],
      "metadata": {
        "colab": {
          "base_uri": "https://localhost:8080/",
          "height": 95
        },
        "id": "9BU2ceNgbRNA",
        "outputId": "e71d49c6-7537-4ee7-a3d7-2a311d313696"
      },
      "execution_count": null,
      "outputs": [
        {
          "output_type": "stream",
          "name": "stdout",
          "text": [
            " * sqlite://\n",
            "Done.\n"
          ]
        },
        {
          "output_type": "execute_result",
          "data": {
            "text/plain": [
              "[('Robert Shaw', '1837-10-10', '1863-07-18')]"
            ],
            "text/html": [
              "<table>\n",
              "    <thead>\n",
              "        <tr>\n",
              "            <th>name</th>\n",
              "            <th>birthdate</th>\n",
              "            <th>deaddate</th>\n",
              "        </tr>\n",
              "    </thead>\n",
              "    <tbody>\n",
              "        <tr>\n",
              "            <td>Robert Shaw</td>\n",
              "            <td>1837-10-10</td>\n",
              "            <td>1863-07-18</td>\n",
              "        </tr>\n",
              "    </tbody>\n",
              "</table>"
            ]
          },
          "metadata": {},
          "execution_count": 57
        }
      ]
    },
    {
      "cell_type": "code",
      "source": [
        "%%sql\n",
        "SELECT name, birthdate, deaddate\n",
        "FROM people\n",
        "WHERE deaddate-birthdate = (SELECT MAX(deaddate - birthdate)\n",
        "              FROM people);"
      ],
      "metadata": {
        "colab": {
          "base_uri": "https://localhost:8080/",
          "height": 116
        },
        "id": "iSquiPB2bnzc",
        "outputId": "717daded-d851-4e5d-833e-31ab939f0730"
      },
      "execution_count": null,
      "outputs": [
        {
          "output_type": "stream",
          "name": "stdout",
          "text": [
            " * sqlite://\n",
            "Done.\n"
          ]
        },
        {
          "output_type": "execute_result",
          "data": {
            "text/plain": [
              "[('Ellen Albertini Dow', '1913-11-16', '2015-05-04'),\n",
              " ('Zohra Segal', '1912-04-27', '2014-07-10')]"
            ],
            "text/html": [
              "<table>\n",
              "    <thead>\n",
              "        <tr>\n",
              "            <th>name</th>\n",
              "            <th>birthdate</th>\n",
              "            <th>deaddate</th>\n",
              "        </tr>\n",
              "    </thead>\n",
              "    <tbody>\n",
              "        <tr>\n",
              "            <td>Ellen Albertini Dow</td>\n",
              "            <td>1913-11-16</td>\n",
              "            <td>2015-05-04</td>\n",
              "        </tr>\n",
              "        <tr>\n",
              "            <td>Zohra Segal</td>\n",
              "            <td>1912-04-27</td>\n",
              "            <td>2014-07-10</td>\n",
              "        </tr>\n",
              "    </tbody>\n",
              "</table>"
            ]
          },
          "metadata": {},
          "execution_count": 60
        }
      ]
    },
    {
      "cell_type": "code",
      "source": [
        "%%sql\n",
        "SELECT name, birthdate, deaddate\n",
        "FROM people\n",
        "WHERE deaddate-birthdate = (SELECT MIN(deaddate - birthdate)\n",
        "              FROM people);"
      ],
      "metadata": {
        "colab": {
          "base_uri": "https://localhost:8080/",
          "height": 95
        },
        "id": "BH4sVYiQcNht",
        "outputId": "7f5ecb8a-9510-4b07-f1d3-6f108af54402"
      },
      "execution_count": null,
      "outputs": [
        {
          "output_type": "stream",
          "name": "stdout",
          "text": [
            " * sqlite://\n",
            "Done.\n"
          ]
        },
        {
          "output_type": "execute_result",
          "data": {
            "text/plain": [
              "[('Judith Barsi', '1978-06-06', '1988-07-25')]"
            ],
            "text/html": [
              "<table>\n",
              "    <thead>\n",
              "        <tr>\n",
              "            <th>name</th>\n",
              "            <th>birthdate</th>\n",
              "            <th>deaddate</th>\n",
              "        </tr>\n",
              "    </thead>\n",
              "    <tbody>\n",
              "        <tr>\n",
              "            <td>Judith Barsi</td>\n",
              "            <td>1978-06-06</td>\n",
              "            <td>1988-07-25</td>\n",
              "        </tr>\n",
              "    </tbody>\n",
              "</table>"
            ]
          },
          "metadata": {},
          "execution_count": 61
        }
      ]
    },
    {
      "cell_type": "code",
      "source": [
        "%%sql\n",
        "SELECT *\n",
        "FROM roles\n",
        "LIMIT 10;\n"
      ],
      "metadata": {
        "colab": {
          "base_uri": "https://localhost:8080/",
          "height": 284
        },
        "id": "WYK2TUoaclWe",
        "outputId": "ca6d0f94-06ea-4238-d993-40fa905bfec3"
      },
      "execution_count": null,
      "outputs": [
        {
          "output_type": "stream",
          "name": "stdout",
          "text": [
            " * sqlite://\n",
            "Done.\n"
          ]
        },
        {
          "output_type": "execute_result",
          "data": {
            "text/plain": [
              "[(0, 1, 1, 1630, 'director'),\n",
              " (1, 2, 1, 4843, 'actor'),\n",
              " (2, 3, 1, 5050, 'actor'),\n",
              " (3, 4, 1, 8175, 'actor'),\n",
              " (4, 5, 2, 3000, 'director'),\n",
              " (5, 6, 2, 4019, 'actor'),\n",
              " (6, 7, 2, 5274, 'actor'),\n",
              " (7, 8, 2, 7449, 'actor'),\n",
              " (8, 9, 3, 1459, 'actor'),\n",
              " (9, 10, 3, 3929, 'actor')]"
            ],
            "text/html": [
              "<table>\n",
              "    <thead>\n",
              "        <tr>\n",
              "            <th>index</th>\n",
              "            <th>0</th>\n",
              "            <th>film_id</th>\n",
              "            <th>person_id</th>\n",
              "            <th>role</th>\n",
              "        </tr>\n",
              "    </thead>\n",
              "    <tbody>\n",
              "        <tr>\n",
              "            <td>0</td>\n",
              "            <td>1</td>\n",
              "            <td>1</td>\n",
              "            <td>1630</td>\n",
              "            <td>director</td>\n",
              "        </tr>\n",
              "        <tr>\n",
              "            <td>1</td>\n",
              "            <td>2</td>\n",
              "            <td>1</td>\n",
              "            <td>4843</td>\n",
              "            <td>actor</td>\n",
              "        </tr>\n",
              "        <tr>\n",
              "            <td>2</td>\n",
              "            <td>3</td>\n",
              "            <td>1</td>\n",
              "            <td>5050</td>\n",
              "            <td>actor</td>\n",
              "        </tr>\n",
              "        <tr>\n",
              "            <td>3</td>\n",
              "            <td>4</td>\n",
              "            <td>1</td>\n",
              "            <td>8175</td>\n",
              "            <td>actor</td>\n",
              "        </tr>\n",
              "        <tr>\n",
              "            <td>4</td>\n",
              "            <td>5</td>\n",
              "            <td>2</td>\n",
              "            <td>3000</td>\n",
              "            <td>director</td>\n",
              "        </tr>\n",
              "        <tr>\n",
              "            <td>5</td>\n",
              "            <td>6</td>\n",
              "            <td>2</td>\n",
              "            <td>4019</td>\n",
              "            <td>actor</td>\n",
              "        </tr>\n",
              "        <tr>\n",
              "            <td>6</td>\n",
              "            <td>7</td>\n",
              "            <td>2</td>\n",
              "            <td>5274</td>\n",
              "            <td>actor</td>\n",
              "        </tr>\n",
              "        <tr>\n",
              "            <td>7</td>\n",
              "            <td>8</td>\n",
              "            <td>2</td>\n",
              "            <td>7449</td>\n",
              "            <td>actor</td>\n",
              "        </tr>\n",
              "        <tr>\n",
              "            <td>8</td>\n",
              "            <td>9</td>\n",
              "            <td>3</td>\n",
              "            <td>1459</td>\n",
              "            <td>actor</td>\n",
              "        </tr>\n",
              "        <tr>\n",
              "            <td>9</td>\n",
              "            <td>10</td>\n",
              "            <td>3</td>\n",
              "            <td>3929</td>\n",
              "            <td>actor</td>\n",
              "        </tr>\n",
              "    </tbody>\n",
              "</table>"
            ]
          },
          "metadata": {},
          "execution_count": 62
        }
      ]
    },
    {
      "cell_type": "code",
      "source": [
        "%%sql\n",
        "SELECT COUNT(*)\n",
        "FROM roles;"
      ],
      "metadata": {
        "colab": {
          "base_uri": "https://localhost:8080/",
          "height": 95
        },
        "id": "u5RgjfMhcya1",
        "outputId": "f8dba3fd-b570-44bb-8b62-6177ca992dc9"
      },
      "execution_count": null,
      "outputs": [
        {
          "output_type": "stream",
          "name": "stdout",
          "text": [
            " * sqlite://\n",
            "Done.\n"
          ]
        },
        {
          "output_type": "execute_result",
          "data": {
            "text/plain": [
              "[(19791,)]"
            ],
            "text/html": [
              "<table>\n",
              "    <thead>\n",
              "        <tr>\n",
              "            <th>COUNT(*)</th>\n",
              "        </tr>\n",
              "    </thead>\n",
              "    <tbody>\n",
              "        <tr>\n",
              "            <td>19791</td>\n",
              "        </tr>\n",
              "    </tbody>\n",
              "</table>"
            ]
          },
          "metadata": {},
          "execution_count": 63
        }
      ]
    },
    {
      "cell_type": "code",
      "source": [
        "%%sql\n",
        "SELECT COUNT(*)\n",
        "FROM roles\n",
        "WHERE role = 'actor';"
      ],
      "metadata": {
        "colab": {
          "base_uri": "https://localhost:8080/",
          "height": 95
        },
        "id": "ltjJ6x6kdKTH",
        "outputId": "a3fac639-8537-4a1c-92eb-4a31600ebb82"
      },
      "execution_count": null,
      "outputs": [
        {
          "output_type": "stream",
          "name": "stdout",
          "text": [
            " * sqlite://\n",
            "Done.\n"
          ]
        },
        {
          "output_type": "execute_result",
          "data": {
            "text/plain": [
              "[(14862,)]"
            ],
            "text/html": [
              "<table>\n",
              "    <thead>\n",
              "        <tr>\n",
              "            <th>COUNT(*)</th>\n",
              "        </tr>\n",
              "    </thead>\n",
              "    <tbody>\n",
              "        <tr>\n",
              "            <td>14862</td>\n",
              "        </tr>\n",
              "    </tbody>\n",
              "</table>"
            ]
          },
          "metadata": {},
          "execution_count": 66
        }
      ]
    },
    {
      "cell_type": "code",
      "source": [
        "%%sql\n",
        "SELECT *\n",
        "FROM films\n",
        "WHERE \"0\" = (SELECT film_id\n",
        "                 FROM reviews\n",
        "                 WHERE imdb_score = (SELECT MAX(imdb_score)\n",
        "                                     FROM reviews));"
      ],
      "metadata": {
        "colab": {
          "base_uri": "https://localhost:8080/",
          "height": 95
        },
        "id": "K3C_EzW1deUN",
        "outputId": "d5045244-acb7-4a72-9d5b-218b20f66a5b"
      },
      "execution_count": null,
      "outputs": [
        {
          "output_type": "stream",
          "name": "stdout",
          "text": [
            " * sqlite://\n",
            "Done.\n"
          ]
        },
        {
          "output_type": "execute_result",
          "data": {
            "text/plain": [
              "[(4143, 4144, 'Bending Steel', 2013.0, 'USA', 92.0, 'English', None, None, 50000.0)]"
            ],
            "text/html": [
              "<table>\n",
              "    <thead>\n",
              "        <tr>\n",
              "            <th>index</th>\n",
              "            <th>0</th>\n",
              "            <th>title</th>\n",
              "            <th>release_year</th>\n",
              "            <th>country</th>\n",
              "            <th>duration</th>\n",
              "            <th>language</th>\n",
              "            <th>certification</th>\n",
              "            <th>gross</th>\n",
              "            <th>budget</th>\n",
              "        </tr>\n",
              "    </thead>\n",
              "    <tbody>\n",
              "        <tr>\n",
              "            <td>4143</td>\n",
              "            <td>4144</td>\n",
              "            <td>Bending Steel</td>\n",
              "            <td>2013.0</td>\n",
              "            <td>USA</td>\n",
              "            <td>92.0</td>\n",
              "            <td>English</td>\n",
              "            <td>None</td>\n",
              "            <td>None</td>\n",
              "            <td>50000.0</td>\n",
              "        </tr>\n",
              "    </tbody>\n",
              "</table>"
            ]
          },
          "metadata": {},
          "execution_count": 74
        }
      ]
    },
    {
      "cell_type": "code",
      "source": [
        "%%sql\n",
        "SELECT *\n",
        "FROM films\n",
        "WHERE \"0\" = (SELECT film_id\n",
        "                 FROM reviews\n",
        "                 WHERE num_votes = (SELECT MAX(num_votes)\n",
        "                                     FROM reviews));"
      ],
      "metadata": {
        "colab": {
          "base_uri": "https://localhost:8080/",
          "height": 95
        },
        "id": "ypN-5PPYd6Vz",
        "outputId": "9eacd585-0fa7-4b61-e618-31bc4eacdbfd"
      },
      "execution_count": null,
      "outputs": [
        {
          "output_type": "stream",
          "name": "stdout",
          "text": [
            " * sqlite://\n",
            "Done.\n"
          ]
        },
        {
          "output_type": "execute_result",
          "data": {
            "text/plain": [
              "[(4079, 4080, 'The Twilight Saga: Breaking Dawn - Part 2', 2012.0, 'USA', 115.0, 'English', 'PG-13', 292298923.0, 120000000.0)]"
            ],
            "text/html": [
              "<table>\n",
              "    <thead>\n",
              "        <tr>\n",
              "            <th>index</th>\n",
              "            <th>0</th>\n",
              "            <th>title</th>\n",
              "            <th>release_year</th>\n",
              "            <th>country</th>\n",
              "            <th>duration</th>\n",
              "            <th>language</th>\n",
              "            <th>certification</th>\n",
              "            <th>gross</th>\n",
              "            <th>budget</th>\n",
              "        </tr>\n",
              "    </thead>\n",
              "    <tbody>\n",
              "        <tr>\n",
              "            <td>4079</td>\n",
              "            <td>4080</td>\n",
              "            <td>The Twilight Saga: Breaking Dawn - Part 2</td>\n",
              "            <td>2012.0</td>\n",
              "            <td>USA</td>\n",
              "            <td>115.0</td>\n",
              "            <td>English</td>\n",
              "            <td>PG-13</td>\n",
              "            <td>292298923.0</td>\n",
              "            <td>120000000.0</td>\n",
              "        </tr>\n",
              "    </tbody>\n",
              "</table>"
            ]
          },
          "metadata": {},
          "execution_count": 75
        }
      ]
    },
    {
      "cell_type": "code",
      "source": [
        "%%sql\n",
        "SELECT *\n",
        "FROM people\n",
        "WHERE \"0\" = (SELECT film_id\n",
        "                 FROM reviews\n",
        "                 WHERE imdb_score = (SELECT MAX(imdb_score)\n",
        "                                     FROM reviews));"
      ],
      "metadata": {
        "colab": {
          "base_uri": "https://localhost:8080/",
          "height": 95
        },
        "id": "tEEXJNc-e-MN",
        "outputId": "88f16e30-7972-4115-d80f-783a532211e5"
      },
      "execution_count": null,
      "outputs": [
        {
          "output_type": "stream",
          "name": "stdout",
          "text": [
            " * sqlite://\n",
            "Done.\n"
          ]
        },
        {
          "output_type": "execute_result",
          "data": {
            "text/plain": [
              "[(4143, 4144, 'Joseph Mazzella', '1983-09-21', None)]"
            ],
            "text/html": [
              "<table>\n",
              "    <thead>\n",
              "        <tr>\n",
              "            <th>index</th>\n",
              "            <th>0</th>\n",
              "            <th>name</th>\n",
              "            <th>birthdate</th>\n",
              "            <th>deaddate</th>\n",
              "        </tr>\n",
              "    </thead>\n",
              "    <tbody>\n",
              "        <tr>\n",
              "            <td>4143</td>\n",
              "            <td>4144</td>\n",
              "            <td>Joseph Mazzella</td>\n",
              "            <td>1983-09-21</td>\n",
              "            <td>None</td>\n",
              "        </tr>\n",
              "    </tbody>\n",
              "</table>"
            ]
          },
          "metadata": {},
          "execution_count": 79
        }
      ]
    },
    {
      "cell_type": "code",
      "source": [
        "%%sql\n",
        "SELECT *\n",
        "FROM people\n",
        "WHERE \"0\" = (SELECT film_id\n",
        "                 FROM reviews\n",
        "                 WHERE num_votes = (SELECT MAX(num_votes)\n",
        "                                     FROM reviews));"
      ],
      "metadata": {
        "colab": {
          "base_uri": "https://localhost:8080/",
          "height": 95
        },
        "id": "vZX40-XSfcqt",
        "outputId": "726f9d42-135e-4741-b2c3-ed843f18d561"
      },
      "execution_count": null,
      "outputs": [
        {
          "output_type": "stream",
          "name": "stdout",
          "text": [
            " * sqlite://\n",
            "Done.\n"
          ]
        },
        {
          "output_type": "execute_result",
          "data": {
            "text/plain": [
              "[(4079, 4080, 'Jonathan Jakubowicz', '1978-01-29', None)]"
            ],
            "text/html": [
              "<table>\n",
              "    <thead>\n",
              "        <tr>\n",
              "            <th>index</th>\n",
              "            <th>0</th>\n",
              "            <th>name</th>\n",
              "            <th>birthdate</th>\n",
              "            <th>deaddate</th>\n",
              "        </tr>\n",
              "    </thead>\n",
              "    <tbody>\n",
              "        <tr>\n",
              "            <td>4079</td>\n",
              "            <td>4080</td>\n",
              "            <td>Jonathan Jakubowicz</td>\n",
              "            <td>1978-01-29</td>\n",
              "            <td>None</td>\n",
              "        </tr>\n",
              "    </tbody>\n",
              "</table>"
            ]
          },
          "metadata": {},
          "execution_count": 80
        }
      ]
    },
    {
      "cell_type": "code",
      "source": [
        "%%sql\n",
        "SELECT 0, title, release_year,\tcountry\tduration,\tlanguage,\tcertification,\tgross,\tbudget, gross - budget AS profit\n",
        "FROM films\n",
        "WHERE   gross - budget = (SELECT MAX(gross - budget)\n",
        "                          FROM films);"
      ],
      "metadata": {
        "colab": {
          "base_uri": "https://localhost:8080/",
          "height": 95
        },
        "id": "dIi8NtzjiJ0o",
        "outputId": "c7679441-8958-4dd2-95c3-fe447579d4b6"
      },
      "execution_count": null,
      "outputs": [
        {
          "output_type": "stream",
          "name": "stdout",
          "text": [
            " * sqlite://\n",
            "Done.\n"
          ]
        },
        {
          "output_type": "execute_result",
          "data": {
            "text/plain": [
              "[(0, 'Star Wars: Episode VII - The Force Awakens', 2015.0, 'USA', 'English', 'PG-13', 936627416.0, 245000000.0, 691627416.0)]"
            ],
            "text/html": [
              "<table>\n",
              "    <thead>\n",
              "        <tr>\n",
              "            <th>0</th>\n",
              "            <th>title</th>\n",
              "            <th>release_year</th>\n",
              "            <th>duration</th>\n",
              "            <th>language</th>\n",
              "            <th>certification</th>\n",
              "            <th>gross</th>\n",
              "            <th>budget</th>\n",
              "            <th>profit</th>\n",
              "        </tr>\n",
              "    </thead>\n",
              "    <tbody>\n",
              "        <tr>\n",
              "            <td>0</td>\n",
              "            <td>Star Wars: Episode VII - The Force Awakens</td>\n",
              "            <td>2015.0</td>\n",
              "            <td>USA</td>\n",
              "            <td>English</td>\n",
              "            <td>PG-13</td>\n",
              "            <td>936627416.0</td>\n",
              "            <td>245000000.0</td>\n",
              "            <td>691627416.0</td>\n",
              "        </tr>\n",
              "    </tbody>\n",
              "</table>"
            ]
          },
          "metadata": {},
          "execution_count": 87
        }
      ]
    },
    {
      "cell_type": "code",
      "source": [
        "%%sql\n",
        "SELECT *\n",
        "FROM people\n",
        "WHERE \"0\" = (SELECT \"0\"\n",
        "                 FROM films\n",
        "                 WHERE   gross - budget = (SELECT MAX(gross - budget)\n",
        "                                     FROM films));"
      ],
      "metadata": {
        "colab": {
          "base_uri": "https://localhost:8080/",
          "height": 95
        },
        "id": "OphZXIlshBWE",
        "outputId": "2b668492-89f3-4bc4-a971-4fab9de512f8"
      },
      "execution_count": null,
      "outputs": [
        {
          "output_type": "stream",
          "name": "stdout",
          "text": [
            " * sqlite://\n",
            "Done.\n"
          ]
        },
        {
          "output_type": "execute_result",
          "data": {
            "text/plain": [
              "[(4745, 4746, 'Lee Daniels', '1959-12-24', None)]"
            ],
            "text/html": [
              "<table>\n",
              "    <thead>\n",
              "        <tr>\n",
              "            <th>index</th>\n",
              "            <th>0</th>\n",
              "            <th>name</th>\n",
              "            <th>birthdate</th>\n",
              "            <th>deaddate</th>\n",
              "        </tr>\n",
              "    </thead>\n",
              "    <tbody>\n",
              "        <tr>\n",
              "            <td>4745</td>\n",
              "            <td>4746</td>\n",
              "            <td>Lee Daniels</td>\n",
              "            <td>1959-12-24</td>\n",
              "            <td>None</td>\n",
              "        </tr>\n",
              "    </tbody>\n",
              "</table>"
            ]
          },
          "metadata": {},
          "execution_count": 85
        }
      ]
    }
  ]
}